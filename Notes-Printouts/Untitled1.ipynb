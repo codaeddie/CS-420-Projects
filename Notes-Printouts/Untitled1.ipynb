{
 "cells": [
  {
   "cell_type": "code",
   "execution_count": 7,
   "id": "ece7768e-c87f-4188-be0a-335ef5b2a69c",
   "metadata": {},
   "outputs": [],
   "source": [
    "import random\n",
    "import time"
   ]
  },
  {
   "cell_type": "code",
   "execution_count": 8,
   "id": "109b3e3b-6244-49de-b80f-3484266705c0",
   "metadata": {},
   "outputs": [],
   "source": [
    "def quick_sort(lst):\n",
    "    if len(lst) <= 1:\n",
    "        return lst\n",
    "    else:\n",
    "        pivot = lst[0]\n",
    "        small = [x for x in lst[1:] if x <= pivot]\n",
    "        large = [x for x in lst[1:] if x > pivot]\n",
    "        return quick_sort(small) + [pivot] + quick_sort(large)\n",
    "\n",
    "def merge_sort(lst):\n",
    "    if len(lst) <= 1:\n",
    "        return lst\n",
    "    else:\n",
    "        mid = len(lst) // 2\n",
    "        left = lst[:mid]\n",
    "        right = lst[mid:]\n",
    "        left_sorted = merge_sort(left)\n",
    "        right_sorted = merge_sort(right)\n",
    "        return merge(left_sorted, right_sorted)\n",
    "\n",
    "def merge(left, right):\n",
    "    if not left:\n",
    "        return right\n",
    "    elif not right:\n",
    "        return left\n",
    "    elif left[0] <= right[0]:\n",
    "        return [left[0]] + merge(left[1:], right)\n",
    "    else:\n",
    "        return [right[0]] + merge(left, right[1:])"
   ]
  },
  {
   "cell_type": "code",
   "execution_count": 9,
   "id": "ca027551-66da-4a27-8718-4a66f46b341b",
   "metadata": {},
   "outputs": [],
   "source": [
    "def generate_random_list(n):\n",
    "    return [random.randint(-100000, 100000) for _ in range(n)]\n",
    "\n",
    "def time_action(action):\n",
    "    start_time = time.perf_counter()\n",
    "    result = action()\n",
    "    end_time = time.perf_counter()\n",
    "    duration = end_time - start_time\n",
    "    return (result, duration)\n",
    "\n",
    "def run_and_print(name, sort_function, input_list):\n",
    "    print(f\"\\nRunning {name}...\")\n",
    "    (sorted_list, duration) = time_action(lambda: sort_function(input_list))\n",
    "    print(f\"{name} on input took {duration:.6f} seconds.\")\n",
    "    assert sorted_list == sorted(input_list)\n",
    "\n"
   ]
  },
  {
   "cell_type": "code",
   "execution_count": 10,
   "id": "fd5c38b2-ac21-41f9-bff9-ea8c393da020",
   "metadata": {},
   "outputs": [
    {
     "name": "stdout",
     "output_type": "stream",
     "text": [
      "Generating test data...\n",
      "\n",
      "Running QuickSort on random data...\n",
      "QuickSort on random data on input took 0.001501 seconds.\n",
      "\n",
      "Running QuickSort on sorted data...\n",
      "QuickSort on sorted data on input took 0.030960 seconds.\n",
      "\n",
      "Running QuickSort on reverse sorted data...\n",
      "QuickSort on reverse sorted data on input took 0.031073 seconds.\n",
      "\n",
      "Running QuickSort on string data...\n",
      "QuickSort on string data on input took 0.000070 seconds.\n",
      "\n",
      "Running MergeSort on random data...\n",
      "MergeSort on random data on input took 0.007246 seconds.\n",
      "\n",
      "Running MergeSort on sorted data...\n",
      "MergeSort on sorted data on input took 0.003940 seconds.\n",
      "\n",
      "Running MergeSort on reverse sorted data...\n",
      "MergeSort on reverse sorted data on input took 0.003819 seconds.\n",
      "\n",
      "Running MergeSort on string data...\n",
      "MergeSort on string data on input took 0.000049 seconds.\n",
      "\n",
      "Unsorted string data: the quick brown fox jumps over the lazy dog\n",
      "\n",
      "Sorted string data:\n",
      "        abcdeeefghhijklmnoooopqrrsttuuvwxyz\n"
     ]
    }
   ],
   "source": [
    "def main():\n",
    "    print(\"Generating test data...\")\n",
    "    test_data = generate_random_list(1000)\n",
    "    sorted_data = sorted(test_data)\n",
    "    reverse_sorted_data = list(reversed(sorted_data))\n",
    "\n",
    "    test_string = \"the quick brown fox jumps over the lazy dog\"\n",
    "    string_data = sorted(test_string)\n",
    "    sorted_chars = sorted(string_data)\n",
    "    sorted_string = sorted([c for c in test_string])\n",
    "\n",
    "    run_and_print(\"QuickSort on random data\", quick_sort, test_data)\n",
    "    run_and_print(\"QuickSort on sorted data\", quick_sort, sorted_data)\n",
    "    run_and_print(\"QuickSort on reverse sorted data\", quick_sort, reverse_sorted_data)\n",
    "    run_and_print(\"QuickSort on string data\", quick_sort, string_data)\n",
    "\n",
    "    run_and_print(\"MergeSort on random data\", merge_sort, test_data)\n",
    "    run_and_print(\"MergeSort on sorted data\", merge_sort, sorted_data)\n",
    "    run_and_print(\"MergeSort on reverse sorted data\", merge_sort, reverse_sorted_data)\n",
    "    run_and_print(\"MergeSort on string data\", merge_sort, string_data)\n",
    "\n",
    "    print(\"\\nUnsorted string data: the quick brown fox jumps over the lazy dog\")\n",
    "    print(\"\\nSorted string data:\")\n",
    "    print(''.join(sorted_string))\n",
    "\n",
    "\n",
    "if __name__ == \"__main__\":\n",
    "    main()\n"
   ]
  },
  {
   "cell_type": "code",
   "execution_count": null,
   "id": "1b735682-447e-4007-9382-8fc77e192419",
   "metadata": {},
   "outputs": [],
   "source": []
  }
 ],
 "metadata": {
  "kernelspec": {
   "display_name": "Python 3 (ipykernel)",
   "language": "python",
   "name": "python3"
  },
  "language_info": {
   "codemirror_mode": {
    "name": "ipython",
    "version": 3
   },
   "file_extension": ".py",
   "mimetype": "text/x-python",
   "name": "python",
   "nbconvert_exporter": "python",
   "pygments_lexer": "ipython3",
   "version": "3.9.12"
  }
 },
 "nbformat": 4,
 "nbformat_minor": 5
}
